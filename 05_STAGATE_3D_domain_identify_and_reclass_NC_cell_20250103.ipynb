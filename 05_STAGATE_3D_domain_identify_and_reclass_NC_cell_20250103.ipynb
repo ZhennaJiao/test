{
 "cells": [
  {
   "cell_type": "markdown",
   "id": "399e300d-eeb8-49c6-bcc7-991e669a9a6c",
   "metadata": {},
   "source": [
    "## 3D domain identify \n",
    "refer to tutorial https://stagate.readthedocs.io/en/latest/T5_3D.html  \n",
    "2025/01/03 modified by Zhenna Jiao "
   ]
  },
  {
   "cell_type": "markdown",
   "id": "15e695b3-e57d-4c0b-aec9-fd90fccee6e3",
   "metadata": {},
   "source": [
    "### workflow\n",
    "* 1. use STAGATE to identify the embryo 3D domain \n",
    "* 2. annotation NC cell as head_NC PA3_NC and Pos_NC acrooding to there coordinates distribution  "
   ]
  },
  {
   "cell_type": "code",
   "execution_count": 1,
   "id": "c2f7a7c9-2bb7-489c-91a3-6fc5297adb3e",
   "metadata": {
    "tags": []
   },
   "outputs": [
    {
     "data": {
      "text/plain": [
       "'January 03, 2025, 03:33 PM'"
      ]
     },
     "execution_count": 1,
     "metadata": {},
     "output_type": "execute_result"
    }
   ],
   "source": [
    "import datetime \n",
    "current_date = datetime.datetime.now().strftime(\"%B %d, %Y\")\n",
    "current_time = datetime.datetime.now().strftime(\"%I:%M %p\")\n",
    "current_date + \", \"+current_time"
   ]
  },
  {
   "cell_type": "code",
   "execution_count": 2,
   "id": "84b68345-939a-4370-8d49-bc41478572da",
   "metadata": {
    "tags": []
   },
   "outputs": [
    {
     "name": "stdout",
     "output_type": "stream",
     "text": [
      "2.6.1\n"
     ]
    }
   ],
   "source": [
    "import torch_geometric\n",
    "print(torch_geometric.__version__)"
   ]
  },
  {
   "cell_type": "code",
   "execution_count": 3,
   "id": "5f6bcfff-1634-4d15-805c-e3bf595f3d89",
   "metadata": {
    "tags": []
   },
   "outputs": [],
   "source": [
    "import STAGATE_pyG"
   ]
  },
  {
   "cell_type": "code",
   "execution_count": null,
   "id": "7e6a0905-d945-4801-ba48-d06f125207d2",
   "metadata": {
    "tags": []
   },
   "outputs": [
    {
     "ename": "",
     "evalue": "",
     "output_type": "error",
     "traceback": [
      "\u001b[1;31m内核无法启动，因为 Python 环境“test_cell (Python -1.-1.-1)”不再可用。请考虑选择另一个内核或刷新 Python 环境列表。"
     ]
    }
   ],
   "source": [
    "import pandas as pd\n",
    "import numpy as np\n",
    "import scanpy as sc\n",
    "import matplotlib.pyplot as plt\n",
    "import os\n",
    "import sys"
   ]
  },
  {
   "cell_type": "code",
   "execution_count": 2,
   "id": "1724ff20",
   "metadata": {},
   "outputs": [
    {
     "name": "stdout",
     "output_type": "stream",
     "text": [
      "Requirement already satisfied: matplotlib in d:\\pakage\\python\\lib\\site-packages (3.9.1)\n",
      "Collecting matplotlib_venn\n",
      "  Downloading matplotlib-venn-1.1.2.tar.gz (40 kB)\n",
      "  Installing build dependencies: started\n",
      "  Installing build dependencies: finished with status 'done'\n",
      "  Getting requirements to build wheel: started\n",
      "  Getting requirements to build wheel: finished with status 'done'\n",
      "  Preparing metadata (pyproject.toml): started\n",
      "  Preparing metadata (pyproject.toml): finished with status 'done'\n",
      "Requirement already satisfied: contourpy>=1.0.1 in d:\\pakage\\python\\lib\\site-packages (from matplotlib) (1.2.1)\n",
      "Requirement already satisfied: cycler>=0.10 in d:\\pakage\\python\\lib\\site-packages (from matplotlib) (0.12.1)\n",
      "Requirement already satisfied: fonttools>=4.22.0 in d:\\pakage\\python\\lib\\site-packages (from matplotlib) (4.53.1)\n",
      "Requirement already satisfied: kiwisolver>=1.3.1 in d:\\pakage\\python\\lib\\site-packages (from matplotlib) (1.4.5)\n",
      "Requirement already satisfied: numpy>=1.23 in d:\\pakage\\python\\lib\\site-packages (from matplotlib) (1.26.3)\n",
      "Requirement already satisfied: packaging>=20.0 in c:\\users\\zhaoj\\appdata\\roaming\\python\\python312\\site-packages (from matplotlib) (23.2)\n",
      "Requirement already satisfied: pillow>=8 in d:\\pakage\\python\\lib\\site-packages (from matplotlib) (10.4.0)\n",
      "Requirement already satisfied: pyparsing>=2.3.1 in d:\\pakage\\python\\lib\\site-packages (from matplotlib) (3.1.2)\n",
      "Requirement already satisfied: python-dateutil>=2.7 in c:\\users\\zhaoj\\appdata\\roaming\\python\\python312\\site-packages (from matplotlib) (2.8.2)\n",
      "Requirement already satisfied: scipy in d:\\pakage\\python\\lib\\site-packages (from matplotlib_venn) (1.14.0)\n",
      "Requirement already satisfied: six>=1.5 in c:\\users\\zhaoj\\appdata\\roaming\\python\\python312\\site-packages (from python-dateutil>=2.7->matplotlib) (1.16.0)\n",
      "Building wheels for collected packages: matplotlib_venn\n",
      "  Building wheel for matplotlib_venn (pyproject.toml): started\n",
      "  Building wheel for matplotlib_venn (pyproject.toml): finished with status 'done'\n",
      "  Created wheel for matplotlib_venn: filename=matplotlib_venn-1.1.2-py3-none-any.whl size=45404 sha256=8733922506ab7b5683505d00a9164c1485da24c2fb673f7bce1f632b5aa1fbf6\n",
      "  Stored in directory: c:\\users\\zhaoj\\appdata\\local\\pip\\cache\\wheels\\c2\\47\\0c\\f014c55a1cfd56dce41a1cafd23e3c590652b5e71330cc181c\n",
      "Successfully built matplotlib_venn\n",
      "Installing collected packages: matplotlib_venn\n",
      "Successfully installed matplotlib_venn-1.1.2\n",
      "Note: you may need to restart the kernel to use updated packages.\n"
     ]
    },
    {
     "name": "stderr",
     "output_type": "stream",
     "text": [
      "\n",
      "[notice] A new release of pip is available: 24.2 -> 25.0.1\n",
      "[notice] To update, run: python.exe -m pip install --upgrade pip\n"
     ]
    }
   ],
   "source": [
    "pip install matplotlib matplotlib_venn"
   ]
  },
  {
   "cell_type": "code",
   "execution_count": 3,
   "id": "36b819b0",
   "metadata": {},
   "outputs": [
    {
     "data": {
      "image/png": "[encoded data removed]",
      "text/plain": [
       "<Figure size 640x480 with 1 Axes>"
      ]
     },
     "metadata": {},
     "output_type": "display_data"
    }
   ],
   "source": [
    "\n",
    "import matplotlib.pyplot as plt\n",
    "from matplotlib_venn import venn2\n",
    "\n",
    "# 定义两组数据的大小和交集\n",
    "group1_size = 6000\n",
    "group2_size = 2000\n",
    "intersection_size = 300\n",
    "\n",
    "# 计算各自独立的部分\n",
    "only_group1 = group1_size - intersection_size\n",
    "only_group2 = group2_size - intersection_size\n",
    "\n",
    "# 绘制韦恩图\n",
    "venn2(subsets=(only_group1, only_group2, intersection_size), set_labels=('DMR_group1', 'DMR_group2'))\n",
    "\n",
    "# 显示图形\n",
    "plt.title(\"Venn Diagram of DMR_group1 and DMR_group2\")\n",
    "plt.show()"
   ]
  },
  {
   "cell_type": "markdown",
   "id": "90dc3542-ed75-4542-919b-5af60a186934",
   "metadata": {},
   "source": [
    "## Read  filter h5ad data  cotain 3D alignment coordinates "
   ]
  },
  {
   "cell_type": "code",
   "execution_count": null,
   "id": "c97a0e59-6b01-43fd-ae49-f36dc50df77f",
   "metadata": {
    "tags": []
   },
   "outputs": [],
   "source": [
    "adata =sc.read_h5ad(\"/home/jiaozhenna/projects/merscope/run6/analysis/tangram/results/filter_results/R56_filter_m3_retry_add_NC_states_20250103.h5ad\")\n",
    "adata"
   ]
  },
  {
   "cell_type": "code",
   "execution_count": null,
   "id": "6db3e977-c76d-4d70-93ef-3604bf11eeaa",
   "metadata": {
    "collapsed": true,
    "jupyter": {
     "outputs_hidden": true
    },
    "tags": []
   },
   "outputs": [],
   "source": [
    "adata.obs[\"cell_type_NC_states\"].value_counts()"
   ]
  },
  {
   "cell_type": "markdown",
   "id": "517e4e69-412f-4806-a17d-02f3b05e50cf",
   "metadata": {},
   "source": [
    "## using whole run data to do domain identify"
   ]
  },
  {
   "cell_type": "markdown",
   "id": "9465dbba-3090-4874-9f15-6897787f7bee",
   "metadata": {},
   "source": [
    "## Run5"
   ]
  },
  {
   "cell_type": "code",
   "execution_count": null,
   "id": "2b0b8c66-3686-4494-b65a-f6b7b2afac27",
   "metadata": {
    "tags": []
   },
   "outputs": [],
   "source": [
    "#ad_sp = adata[(adata.obs['run'] == \"run5\")].copy()\n",
    "ad_sp = adata.copy()\n",
    "ad_sp =  ad_sp[ad_sp.obsm[\"spatial3d_stim\"].sum(axis=1) != 0]\n",
    "sc.pp.normalize_total(ad_sp, target_sum=1e4)\n",
    "sc.pp.log1p(ad_sp)"
   ]
  },
  {
   "cell_type": "code",
   "execution_count": null,
   "id": "53e9ac34-d6db-485e-bc43-9f1b1a6fab28",
   "metadata": {
    "tags": []
   },
   "outputs": [],
   "source": [
    "ad_sp.obsm[\"spatial_old\"] = ad_sp.obsm[\"spatial\"].copy()\n",
    "    \n",
    "    # 获取 spatial3d 中的 X 和 Y 坐标\n",
    "spatial_2d_from_spatial3d = ad_sp.obsm[\"spatial3d_stim\"][:, :2]\n",
    "    \n",
    "    # 创建一个新的 DataFrame 来保存新的坐标，并保证索引对齐\n",
    "spatial_2d_df = pd.DataFrame(spatial_2d_from_spatial3d, index=ad_sp.obs.index, columns=['X', 'Y'])\n",
    "    \n",
    "    # 更新 spatial_old 中的坐标\n",
    "ad_sp.obsm[\"spatial\"] = spatial_2d_df.values\n",
    "    ## do plot to check the sptail \n",
    "sc.pl.embedding(ad_sp,basis=\"spatial\",color=\"leiden_res2\")\n",
    "    \n",
    "    ## define section order \n",
    "section_order = [\"slice1\",\"slice2\",\"slice3\",\"slice4\",\"slice5\",\"slice6\"]"
   ]
  },
  {
   "cell_type": "code",
   "execution_count": null,
   "id": "9e51fd15-263e-48dc-9095-657a37904b47",
   "metadata": {
    "tags": []
   },
   "outputs": [],
   "source": [
    "num_Rcluster=20 \n",
    "rad_cutoff_2D=18\n",
    "STAGATE_pyG.Cal_Spatial_Net_3D(ad_sp, rad_cutoff_2D=rad_cutoff_2D, rad_cutoff_Zaxis=10,\n",
    "                               key_section='slice_id', section_order = section_order, verbose=True)\n",
    "    ## plot the data the average neighbor of each cell\n",
    "STAGATE_pyG.Stats_Spatial_Net(ad_sp)\n",
    "    ## train SNN\n",
    "STAGATE_pyG.train_STAGATE(ad_sp,save_loss=True,save_reconstrction=True,hidden_dims=[128, 30])"
   ]
  },
  {
   "cell_type": "code",
   "execution_count": null,
   "id": "851487d9-1f5f-4190-85af-2e2a55f28c00",
   "metadata": {
    "tags": []
   },
   "outputs": [],
   "source": [
    " ## umap for the SNN output data \n",
    "sc.pp.neighbors(ad_sp, use_rep='STAGATE',random_state=1223)\n",
    "sc.tl.umap(ad_sp,random_state=1223)\n",
    "sc.tl.tsne(ad_sp,random_state=1223)\n",
    " ## cluster \n",
    "num_cluster = num_Rcluster ## this parameter can be adjust\n",
    "ad_sp = STAGATE_pyG.mclust_R(ad_sp, num_cluster, used_obsm='STAGATE')\n",
    " ## slice color\n",
    "ad_sp.uns['slice_id_colors'] = ['#02899A', '#0E994D', '#86C049', '#FBB21F', '#F48022', '#DA5326', '#BA3326']\n",
    " \n",
    " ## do plot \n",
    "plt.rcParams[\"figure.figsize\"] = (3, 3)\n",
    "sc.pl.umap(ad_sp, color=['mclust', 'slice_id'])\n",
    "sc.pl.embedding(ad_sp, color=['mclust', \"NC_states\",\"cell_type\"],basis=\"spatial\")\n",
    "    "
   ]
  },
  {
   "cell_type": "code",
   "execution_count": null,
   "id": "1fef6596-38bc-473d-820f-1607c96a32e2",
   "metadata": {
    "tags": []
   },
   "outputs": [],
   "source": [
    "for i in range(1,14):\n",
    "    sc.pl.embedding(ad_sp[(ad_sp.obs[\"embryo_id\"]==f\"embryo{i}\") & (ad_sp.obs[\"run\"]==\"run5\")], color=['mclust'],basis=\"spatial\")"
   ]
  },
  {
   "cell_type": "code",
   "execution_count": null,
   "id": "7f76b798-a96a-4811-903a-0c8261fa9107",
   "metadata": {
    "tags": []
   },
   "outputs": [],
   "source": [
    "numbers = list(range(1, 22)) +[24]+ [25]\n",
    "for i in numbers:\n",
    "    sc.pl.embedding(ad_sp[(ad_sp.obs[\"embryo_id\"]==f\"embryo{i}\") & (ad_sp.obs[\"run\"]==\"run6\")], color=['mclust'],basis=\"spatial\")"
   ]
  },
  {
   "cell_type": "markdown",
   "id": "aef939fa-1cd3-4994-91bb-eef52e1e71dc",
   "metadata": {},
   "source": [
    "### mannual annotaion 3D domain \n",
    "* domain1 : mclust : 14,19,4,2,18,9,8,16,11,5,20\n",
    "* domain2 : mclust : 10,3,7,15,1,6,12,13,17"
   ]
  },
  {
   "cell_type": "code",
   "execution_count": null,
   "id": "f7640787-eb96-4499-8f74-791c2ae037da",
   "metadata": {
    "tags": []
   },
   "outputs": [],
   "source": [
    "adata.obs['STAGATE_cluster'] = np.nan \n",
    "adata.obs['STAGATE_cluster'] = adata.obs['STAGATE_cluster'].astype('category')"
   ]
  },
  {
   "cell_type": "code",
   "execution_count": null,
   "id": "43369dd1-5d4a-46cb-bcd3-d0974846bac5",
   "metadata": {
    "tags": []
   },
   "outputs": [],
   "source": [
    "adata.obs['STAGATE_cluster'] = adata.obs['STAGATE_cluster'].astype(str)\n",
    "ad_sp.obs['mclust'] =ad_sp.obs['mclust'].astype(str)\n",
    "print(ad_sp.obs['mclust'].head())\n",
    "    \n",
    "    # 获取共同索引\n",
    "common_idx = ad_sp.obs.index.intersection(adata.obs.index)\n",
    "print(f\"common_idx: {len(common_idx)}\")\n",
    "    \n",
    "    # 更新数据\n",
    "adata.obs.loc[common_idx, 'STAGATE_cluster'] = ad_sp.obs.loc[common_idx, 'mclust']"
   ]
  },
  {
   "cell_type": "code",
   "execution_count": null,
   "id": "83ebd545-2349-4c68-a949-92bdaa65a48f",
   "metadata": {
    "tags": []
   },
   "outputs": [],
   "source": [
    "adata.obs[\"STAGATE_recluster\"] = adata.obs[\"STAGATE_cluster\"].copy()\n",
    "adata"
   ]
  },
  {
   "cell_type": "code",
   "execution_count": null,
   "id": "610fbe69-5e87-4b0f-9432-75bd9fc33925",
   "metadata": {
    "tags": []
   },
   "outputs": [],
   "source": [
    "## define 3D domain \n",
    "adata.obs.loc[(adata.obs[\"STAGATE_cluster\"].isin([\"14\",\"19\",\"4\",\"2\",\"18\",\"9\",\"8\",\"16\",\"11\",\"5\",\"20\"])), \"STAGATE_recluster\"] = \"1\"\n",
    "# adata_NC.obs.loc[(adata.obs[\"run\"] == \"run5\") & (adata_NC.obs[\"embryo_id\"] == \"embryo9\") & (adata_NC.obs[\"STAGATE_cluster\"].isin([])), \"STAGATE_recluster\"] = \"2\"\n",
    "adata.obs.loc[(adata.obs[\"STAGATE_cluster\"].isin([\"10\",\"3\",\"7\",\"15\",\"1\",\"6\",\"12\",\"13\",\"17\"])), \"STAGATE_recluster\"] = \"2\""
   ]
  },
  {
   "cell_type": "markdown",
   "id": "4c288637-4bb9-4b84-b70e-88df770948d2",
   "metadata": {},
   "source": [
    "## plot identified domain"
   ]
  },
  {
   "cell_type": "code",
   "execution_count": null,
   "id": "c7437343-fe1c-4b0c-aae1-8cf9ea681761",
   "metadata": {
    "tags": []
   },
   "outputs": [],
   "source": [
    "for i in range(1,14):\n",
    "    ad_filter = adata[(adata.obs['embryo_id'] == f'embryo{i}') & (adata.obs['run'] == \"run5\")].copy()\n",
    "    ad_filter =  ad_filter[ad_filter.obsm[\"spatial3d_stim\"].sum(axis=1) != 0]\n",
    "    sc.pl.embedding(ad_filter, color=['STAGATE_recluster'],basis=\"spatial3d_stim\")"
   ]
  },
  {
   "cell_type": "markdown",
   "id": "3ca55bab-e5d1-4cae-9f57-7d19faac616c",
   "metadata": {
    "tags": []
   },
   "source": [
    "## plot Run5 NC_cell states"
   ]
  },
  {
   "cell_type": "markdown",
   "id": "6e156d6d-8d19-48d8-a822-c97ecfd46108",
   "metadata": {
    "tags": []
   },
   "source": [
    "## plot ss3mapped NC "
   ]
  },
  {
   "cell_type": "code",
   "execution_count": null,
   "id": "1a4cc6b4-c90b-41b5-9e9e-a1824f6119ca",
   "metadata": {
    "tags": []
   },
   "outputs": [],
   "source": [
    "palette_list ={\n",
    "    'Mutant_nohox_early_0': '#FB9A99',\n",
    "     'mNC_hox34_1': '#EF595A',\n",
    "     'mNC_head_mesenchymal_2': '#6A3D9A',\n",
    "     'mNC_arch2_3': '#FFD700',\n",
    "    'Pigment_4': '#00FFFF',\n",
    "    'mNC_nohox_5': '#ffbb78',\n",
    "     'Mutant_hox23_6': '#1f77b4',\n",
    "    'mNC_vagal_7': '#ff7f0e',\n",
    "    'Mutant_nohox_pigment_8': '#2ca02c',\n",
    "    'Mutant_nohox_pigment_9': '#d62728',\n",
    "    'dNC_nohox_10': '#9467bd',\n",
    "     'NPB_nohox_11': '#e377c2',\n",
    "     'mNC_arch1_12': '#8c564b',\n",
    "     'NPB/Mut_nohox_13': '#7f7f7f',\n",
    "     'NC_trunk_14': '#bcbd22',\n",
    "     'Mutant_nohox_pigment_15': '#3000ff',\n",
    "    'Mutant_nohox_pigment_16': '#8000ff',\n",
    "     'mNC_vagal/dNC_nohox_17': '#191970',\n",
    "    'mNC_vagal_18': '#76ee00',\n",
    "    'mNC_head_mesenchymal_19': '#00ff00',\n",
    "    'mNC_nohox_20': '#c0ff3e',\n",
    "    'dNC_hoxa2b_21': '#ffa500',\n",
    "    'Mutant_hox23_22':'#ff00ff',\n",
    "    'dNC_hox34_23': '#ff0080',\n",
    "    'Mutant_nohox_pigment_24': '#ffc1c1',\n",
    "    \"Mutant_nohox_pigment_25\" : \"#76eec6\",\n",
    "    'NPB_hox3_26': '#8c564b',\n",
    "    # '27': '#191970',\n",
    "    \"N.A.\":\"#d3d3d3\"\n",
    "}"
   ]
  },
  {
   "cell_type": "code",
   "execution_count": null,
   "id": "c2122ebe-964b-4d3f-bffa-869f527a2aed",
   "metadata": {
    "tags": []
   },
   "outputs": [],
   "source": [
    "sc.set_figure_params(figsize=(6,6))\n",
    "for i in range(1,14):\n",
    "    ad_filter = adata_NC[(adata_NC.obs['embryo_id'] == f'embryo{i}') & (adata_NC.obs['run'] == \"run5\")].copy()\n",
    "    ad_filter =  ad_filter[ad_filter.obsm[\"spatial3d_stim\"].sum(axis=1) != 0]\n",
    "    sc.pl.embedding(ad_filter, color=['NC_Cell_Type_Cluster'],\n",
    "                    basis=\"spatial3d_stim\",\n",
    "                    palette=palette_list)"
   ]
  },
  {
   "cell_type": "markdown",
   "id": "9d5d0452-7a45-4589-b0e1-f93273fe120c",
   "metadata": {},
   "source": [
    "## Run6"
   ]
  },
  {
   "cell_type": "code",
   "execution_count": null,
   "id": "55f6ce44-9fae-40ff-86fc-a957b423537b",
   "metadata": {
    "tags": []
   },
   "outputs": [],
   "source": [
    "numbers = list(range(1, 22)) +[24]+ [25]\n",
    "for i in numbers:\n",
    "    sc.pl.embedding(ad_sp[ad_sp.obs[\"embryo_id\"]==f\"embryo{i}\"], color=['mclust'],basis=\"spatial\")"
   ]
  },
  {
   "cell_type": "code",
   "execution_count": null,
   "id": "9525a991-b786-46bf-a6f7-fe90ce5a762a",
   "metadata": {
    "tags": []
   },
   "outputs": [],
   "source": [
    "sc.set_figure_params(figsize=(4,4))\n",
    "for i in numbers:\n",
    "    ad_filter = adata[(adata.obs['embryo_id'] == f'embryo{i}') & (adata.obs['run'] == \"run6\")].copy()\n",
    "    ad_filter =  ad_filter[ad_filter.obsm[\"spatial3d_stim\"].sum(axis=1) != 0]\n",
    "    sc.pl.embedding(ad_filter, color=['STAGATE_recluster'],basis=\"spatial3d_stim\")"
   ]
  },
  {
   "cell_type": "markdown",
   "id": "0b764d74-69d1-4d12-90ac-a912effe1e62",
   "metadata": {},
   "source": [
    "## do plot for NC cell states "
   ]
  },
  {
   "cell_type": "code",
   "execution_count": null,
   "id": "0cb06927-fa50-499b-8f3d-d2a5b0aa0341",
   "metadata": {
    "tags": []
   },
   "outputs": [],
   "source": [
    "for i in numbers:\n",
    "    ad_filter = adata[(adata.obs['embryo_id'] == f'embryo{i}') & (adata.obs['run'] == \"run6\")].copy()\n",
    "    ad_filter =  ad_filter[ad_filter.obsm[\"spatial3d_stim\"].sum(axis=1) != 0]\n",
    "    sc.pl.embedding(ad_filter, color=['NC_Cell_Type_Cluster'],basis=\"spatial3d_stim\", palette=palette_list)"
   ]
  },
  {
   "cell_type": "code",
   "execution_count": null,
   "id": "99026ac2-616c-4684-9563-1a27e5503452",
   "metadata": {
    "tags": []
   },
   "outputs": [],
   "source": [
    "adata"
   ]
  },
  {
   "cell_type": "code",
   "execution_count": null,
   "id": "59285fd4-8ffe-4bd6-8c2f-d05081016cb6",
   "metadata": {
    "tags": []
   },
   "outputs": [],
   "source": [
    "sc.pl.umap(adata,color=[\"STAGATE_recluster\"])\n"
   ]
  },
  {
   "cell_type": "code",
   "execution_count": null,
   "id": "410c230c-7c0b-48c5-a7bf-88153cb24d3a",
   "metadata": {
    "tags": []
   },
   "outputs": [],
   "source": [
    "adata.write_h5ad(\"/home/jiaozhenna/projects/merscope/run6/analysis/tangram/results/filter_results/R56_filter_m3_retry_add_NC_states_STAGATE_DOMAIN_20250103.h5ad\")"
   ]
  }
 ],
 "metadata": {
  "kernelspec": {
   "display_name": "Python 3",
   "language": "python",
   "name": "python3"
  },
  "language_info": {
   "codemirror_mode": {
    "name": "ipython",
    "version": 3
   },
   "file_extension": ".py",
   "mimetype": "text/x-python",
   "name": "python",
   "nbconvert_exporter": "python",
   "pygments_lexer": "ipython3",
   "version": "3.12.1"
  }
 },
 "nbformat": 4,
 "nbformat_minor": 5
}
